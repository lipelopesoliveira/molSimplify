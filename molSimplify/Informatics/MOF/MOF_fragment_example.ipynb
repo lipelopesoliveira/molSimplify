{
 "cells": [
  {
   "cell_type": "markdown",
   "metadata": {},
   "source": [
    "This notebook shows how we can turn existing MOFs in to fragments that can be assembled using software such as pormake."
   ]
  },
  {
   "cell_type": "code",
   "execution_count": 1,
   "metadata": {},
   "outputs": [],
   "source": [
    "# import the relevant software\n",
    "import os\n",
    "from molSimplify.Informatics.MOF.fragment_MOFs_for_pormake import make_MOF_fragments\n",
    "import pandas as pd"
   ]
  },
  {
   "cell_type": "code",
   "execution_count": 2,
   "metadata": {},
   "outputs": [
    {
     "name": "stdout",
     "output_type": "stream",
     "text": [
      "now on ABAYIO_clean.cif\n",
      "('cell vectors: ', 'alpha, beta, gamma = 60.0, 60.0 ,60.0')\n",
      "now on ABEFUL_clean.cif\n",
      "('cell vectors: ', 'alpha, beta, gamma = 90.0, 90.0 ,90.0')\n",
      "now on ABUWOJ_clean.cif\n",
      "('cell vectors: ', 'alpha, beta, gamma = 90.0, 90.0 ,90.0')\n",
      "structure is interpenetrated\n",
      "now on ACAKUM_clean.cif\n",
      "('cell vectors: ', 'alpha, beta, gamma = 90.0, 90.0 ,112.06')\n"
     ]
    }
   ],
   "source": [
    "# Define a featurization directory that contains CIF files in a folder named cif/. \n",
    "# Here, my cifs are at /Users/adityanandy/Desktop/test_MOFs/cif/\n",
    "# Featurization will be attempted for all CIFs.\n",
    "\n",
    "# output codes are as follows:\n",
    "# 2: There exist short (i.e. 2 atom) and longer linkers. We could not split the MOF apart consistently.\n",
    "# 3: The MOF consists only of very short 2 atom linkers. \n",
    "# 4: The MOF contains a 1D rod, which cannot be easily reassembled into a new MOF.\n",
    "# None: The MOF was split correctly\n",
    "\n",
    "featurization_directory = '/Users/adityanandy/Desktop/test_MOFs/'\n",
    "log_list = []\n",
    "for cif_file in os.listdir(featurization_directory+'/cif/'): # assumes that all of the cifs are in a directory called cif inside of the parent directory.\n",
    "    print('now on', cif_file)   \n",
    "    return_code = make_MOF_fragments(featurization_directory+'/cif/'+cif_file,3,\n",
    "                                     path=featurization_directory+'/',\n",
    "                                     xyzpath=featurization_directory+'/xyz/'+cif_file.replace('cif','xyz'))\n",
    "    if return_code == None:\n",
    "        return_code = 'good'\n",
    "    log_list.append({'cif':cif_file,'return_code':return_code})\n",
    "\n",
    "df = pd.DataFrame(log_list)\n",
    "df.to_csv(featurization_directory+'/fragment_status.csv')\n",
    "    "
   ]
  },
  {
   "cell_type": "markdown",
   "metadata": {},
   "source": [
    "After this step, any linkers that are converted to edges or organic nodes can be found in the linkers/ folder. Any SBUs that are converted to inorganic nodes can be found in the sbus/ folder. All edges and nodes contain XYZ information as well as connectivity information that is directly used in pormake. \n",
    "\n",
    "As an example, we produce one inorganic node below:"
   ]
  },
  {
   "cell_type": "raw",
   "metadata": {},
   "source": [
    "20\n",
    "   16   17   18   19 #These 4 refer to the \"X atoms\" where connections occur. The graph (with its nodes) is given.\n",
    "O \t10.894189\t10.370732\t5.986203\n",
    "Cl \t9.464978\t13.215825\t4.494367\n",
    "Mn \t9.464978\t11.852296\t6.422688\n",
    "C \t11.263324\t9.394753\t6.643094\n",
    "O \t10.894189\t12.757673\t7.674025\n",
    "C \t7.666632\t9.394753\t6.643094\n",
    "O \t8.035766\t11.487698\t9.470041\n",
    "Cl \t9.464978\t8.642605\t10.961877\n",
    "Mn \t9.464978\t10.006133\t9.033556\n",
    "O \t8.035766\t12.757673\t7.674025\n",
    "O \t10.894189\t11.487698\t9.470041\n",
    "O \t10.894189\t9.100757\t7.782219\n",
    "O \t8.035766\t10.370732\t5.986203\n",
    "C \t11.263324\t12.463677\t8.813150\n",
    "O \t8.035766\t9.100757\t7.782219\n",
    "C \t7.666632\t12.463677\t8.813150\n",
    "X \t11.723328\t8.911089\t6.301092\n",
    "X \t7.206628\t8.911089\t6.301092\n",
    "X \t11.723328\t12.947341\t9.155152\n",
    "X \t7.206628\t12.947341\t9.155152\n",
    "   0    2 S\n",
    "   0    3 S\n",
    "   1    2 S\n",
    "   2    0 S\n",
    "   2    1 S\n",
    "   2    4 S\n",
    "   2    9 S\n",
    "   2   12 S\n",
    "   3    0 S\n",
    "   3   11 S\n",
    "   3   16 S\n",
    "   4    2 S\n",
    "   4   13 S\n",
    "   5   12 S\n",
    "   5   14 S\n",
    "   5   17 S\n",
    "   6    8 S\n",
    "   6   15 S\n",
    "   7    8 S\n",
    "   8    6 S\n",
    "   8    7 S\n",
    "   8   10 S\n",
    "   8   11 S\n",
    "   8   14 S\n",
    "   9    2 S\n",
    "   9   15 S\n",
    "  10    8 S\n",
    "  10   13 S\n",
    "  11    3 S\n",
    "  11    8 S\n",
    "  12    2 S\n",
    "  12    5 S\n",
    "  13    4 S\n",
    "  13   10 S\n",
    "  13   18 S\n",
    "  14    5 S\n",
    "  14    8 S\n",
    "  15    6 S\n",
    "  15    9 S\n",
    "  15   19 S\n",
    "  16    3 S\n",
    "  17    5 S\n",
    "  18   13 S\n",
    "  19   15 S\n"
   ]
  },
  {
   "cell_type": "code",
   "execution_count": null,
   "metadata": {},
   "outputs": [],
   "source": []
  }
 ],
 "metadata": {
  "kernelspec": {
   "display_name": "Python [conda env:MOFSimplify] *",
   "language": "python",
   "name": "conda-env-MOFSimplify-py"
  },
  "language_info": {
   "codemirror_mode": {
    "name": "ipython",
    "version": 3
   },
   "file_extension": ".py",
   "mimetype": "text/x-python",
   "name": "python",
   "nbconvert_exporter": "python",
   "pygments_lexer": "ipython3",
   "version": "3.6.13"
  }
 },
 "nbformat": 4,
 "nbformat_minor": 4
}
